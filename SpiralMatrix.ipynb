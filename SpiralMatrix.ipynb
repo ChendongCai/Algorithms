{
 "cells": [
  {
   "cell_type": "markdown",
   "metadata": {},
   "source": [
    "### Recursion"
   ]
  },
  {
   "cell_type": "code",
   "execution_count": 65,
   "metadata": {},
   "outputs": [],
   "source": [
    "n=10\n",
    "m=[[0]*n for i in range(n)]\n",
    "def spiralmatrix(m,idx,count,n):\n",
    "    if n<=0:\n",
    "        return 0\n",
    "    \n",
    "    if n==1:\n",
    "        m[idx][idx]=count\n",
    "        return 0\n",
    "    \n",
    "    for i in range(idx,idx+n-1):\n",
    "        m[idx][i]=count\n",
    "        count+=1\n",
    "    for i in range(idx,idx+n-1):\n",
    "        m[i][idx+n-1]=count\n",
    "        count+=1\n",
    "    for i in range(idx+n-1,idx,-1):\n",
    "        m[idx+n-1][i]=count\n",
    "        count+=1\n",
    "    for i in range(idx+n-1,idx,-1):\n",
    "        m[i][idx]=count\n",
    "        count+=1\n",
    "    \n",
    "    spiralmatrix(m,idx+1,count,n-2)"
   ]
  },
  {
   "cell_type": "code",
   "execution_count": 66,
   "metadata": {},
   "outputs": [],
   "source": [
    "spiralmatrix(m,0,1,n)"
   ]
  },
  {
   "cell_type": "code",
   "execution_count": 67,
   "metadata": {},
   "outputs": [
    {
     "data": {
      "text/plain": [
       "[[1, 2, 3, 4, 5, 6, 7, 8, 9, 10],\n",
       " [36, 37, 38, 39, 40, 41, 42, 43, 44, 11],\n",
       " [35, 64, 65, 66, 67, 68, 69, 70, 45, 12],\n",
       " [34, 63, 84, 85, 86, 87, 88, 71, 46, 13],\n",
       " [33, 62, 83, 96, 97, 98, 89, 72, 47, 14],\n",
       " [32, 61, 82, 95, 100, 99, 90, 73, 48, 15],\n",
       " [31, 60, 81, 94, 93, 92, 91, 74, 49, 16],\n",
       " [30, 59, 80, 79, 78, 77, 76, 75, 50, 17],\n",
       " [29, 58, 57, 56, 55, 54, 53, 52, 51, 18],\n",
       " [28, 27, 26, 25, 24, 23, 22, 21, 20, 19]]"
      ]
     },
     "execution_count": 67,
     "metadata": {},
     "output_type": "execute_result"
    }
   ],
   "source": [
    "m"
   ]
  }
 ],
 "metadata": {
  "kernelspec": {
   "display_name": "Python 3",
   "language": "python",
   "name": "python3"
  },
  "language_info": {
   "codemirror_mode": {
    "name": "ipython",
    "version": 3
   },
   "file_extension": ".py",
   "mimetype": "text/x-python",
   "name": "python",
   "nbconvert_exporter": "python",
   "pygments_lexer": "ipython3",
   "version": "3.6.3"
  }
 },
 "nbformat": 4,
 "nbformat_minor": 2
}

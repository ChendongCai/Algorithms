{
 "cells": [
  {
   "cell_type": "code",
   "execution_count": 2,
   "metadata": {
    "collapsed": true
   },
   "outputs": [],
   "source": [
    "def arrange_people(n):\n",
    "    p=[i for i in range(n)]\n",
    "    idx=[]\n",
    "    number=1\n",
    "    while len(p)>(n//2):\n",
    "        to_remove=[]\n",
    "        for i in p:\n",
    "            if number%9==0:\n",
    "                idx.append(i)\n",
    "                to_remove.append(i)\n",
    "                number=1\n",
    "            else:\n",
    "                number+=1\n",
    "        for k in to_remove:\n",
    "            p.remove(k)\n",
    "\n",
    "    people=['@']*n\n",
    "    for i in idx:\n",
    "        people[i]='+'    \n",
    "    print(people)"
   ]
  },
  {
   "cell_type": "code",
   "execution_count": 3,
   "metadata": {},
   "outputs": [
    {
     "name": "stdout",
     "output_type": "stream",
     "text": [
      "['@', '@', '@', '@', '+', '+', '+', '+', '+', '@', '@', '+', '@', '@', '@', '+', '@', '+', '+', '@', '@', '+', '+', '+', '@', '+', '+', '@', '@', '+']\n"
     ]
    }
   ],
   "source": [
    "arrange_people(30)\n",
    "\n",
    "\n",
    "#answer should be: @,  @,  @,  @,  +,  +,  +,  +,  +,  @,  @,  +,  @,  @,  @,  +,  @,  +,  +,  @,  @,  +,  +,  +,  @,  +,  +,  @,  @,  +,"
   ]
  }
 ],
 "metadata": {
  "kernelspec": {
   "display_name": "Python 3",
   "language": "python",
   "name": "python3"
  },
  "language_info": {
   "codemirror_mode": {
    "name": "ipython",
    "version": 3
   },
   "file_extension": ".py",
   "mimetype": "text/x-python",
   "name": "python",
   "nbconvert_exporter": "python",
   "pygments_lexer": "ipython3",
   "version": "3.6.3"
  }
 },
 "nbformat": 4,
 "nbformat_minor": 2
}

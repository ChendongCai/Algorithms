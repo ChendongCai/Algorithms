{
 "cells": [
  {
   "cell_type": "code",
   "execution_count": 22,
   "metadata": {},
   "outputs": [],
   "source": [
    "def binarysearch_1(array,t):\n",
    "    low=0\n",
    "    high=len(array)-1\n",
    "    \n",
    "    while low<high:\n",
    "# if the condition is '<' : high=mid         \n",
    "        mid=(low+high)//2\n",
    "        \n",
    "        if array[mid]<t:\n",
    "            low=mid+1\n",
    "        \n",
    "        elif array[mid]>t:\n",
    "            high=mid\n",
    "        \n",
    "        else:\n",
    "            return mid\n",
    "    \n",
    "    return -1"
   ]
  },
  {
   "cell_type": "code",
   "execution_count": 23,
   "metadata": {},
   "outputs": [
    {
     "name": "stdout",
     "output_type": "stream",
     "text": [
      "10\n"
     ]
    }
   ],
   "source": [
    "if __name__=='__main__':\n",
    "    print(binarysearch_1([1,3,4,6,8,10,15,30,32,42,124,256,456,688],124))"
   ]
  },
  {
   "cell_type": "code",
   "execution_count": 24,
   "metadata": {
    "collapsed": true
   },
   "outputs": [],
   "source": [
    "def binarysearch_2(array,t):\n",
    "    low=0\n",
    "    high=len(array)-1\n",
    "    \n",
    "    while low<=high:\n",
    "# if the condition is '<=' : high=mid-1        \n",
    "        mid=(low+high)//2\n",
    "        \n",
    "        if array[mid]<t:\n",
    "            low=mid+1\n",
    "        \n",
    "        elif array[mid]>t:\n",
    "            high=mid-1\n",
    "        \n",
    "        else:\n",
    "            return mid\n",
    "    \n",
    "    return -1"
   ]
  },
  {
   "cell_type": "code",
   "execution_count": 25,
   "metadata": {},
   "outputs": [
    {
     "name": "stdout",
     "output_type": "stream",
     "text": [
      "10\n"
     ]
    }
   ],
   "source": [
    "if __name__=='__main__':\n",
    "    print(binarysearch_2([1,3,4,6,8,10,15,30,32,42,124,256,456,688],124))"
   ]
  },
  {
   "cell_type": "code",
   "execution_count": null,
   "metadata": {
    "collapsed": true
   },
   "outputs": [],
   "source": []
  }
 ],
 "metadata": {
  "kernelspec": {
   "display_name": "Python 3",
   "language": "python",
   "name": "python3"
  },
  "language_info": {
   "codemirror_mode": {
    "name": "ipython",
    "version": 3
   },
   "file_extension": ".py",
   "mimetype": "text/x-python",
   "name": "python",
   "nbconvert_exporter": "python",
   "pygments_lexer": "ipython3",
   "version": "3.6.3"
  }
 },
 "nbformat": 4,
 "nbformat_minor": 2
}

{
 "cells": [
  {
   "cell_type": "markdown",
   "metadata": {},
   "source": [
    "### Merge Sort"
   ]
  },
  {
   "cell_type": "code",
   "execution_count": 10,
   "metadata": {
    "collapsed": true
   },
   "outputs": [],
   "source": [
    "def merge(left,right):\n",
    "    result=[]\n",
    "    i=j=0\n",
    "    while i<len(left) and j<len(right):\n",
    "        if left[i]<=right[j]:\n",
    "            result.append(left[i])\n",
    "            i+=1\n",
    "        elif right[j]<left[i]:\n",
    "            result.append(right[j])\n",
    "            j+=1\n",
    "    result.extend(left[i:])\n",
    "    result.extend(right[j:])\n",
    "    return result    \n",
    "\n",
    "def mergesort(array):\n",
    "    \n",
    "    if len(array)<=1:\n",
    "        return array\n",
    "    \n",
    "    mid=len(array)//2\n",
    "    \n",
    "    left=mergesort(array[:mid])\n",
    "    right=mergesort(array[mid:])\n",
    "#recursion    \n",
    "    return merge(left,right)"
   ]
  },
  {
   "cell_type": "code",
   "execution_count": 12,
   "metadata": {},
   "outputs": [
    {
     "name": "stdout",
     "output_type": "stream",
     "text": [
      "[1, 2, 3, 4, 6, 8, 10, 12, 14, 21, 24, 42]\n"
     ]
    }
   ],
   "source": [
    "print(mergesort([1,10,4,2,6,21,3,8,12,24,14,42]))"
   ]
  },
  {
   "cell_type": "markdown",
   "metadata": {},
   "source": [
    "### Bubble Sort"
   ]
  },
  {
   "cell_type": "code",
   "execution_count": 17,
   "metadata": {
    "collapsed": true
   },
   "outputs": [],
   "source": [
    "def bubblesort(array):\n",
    "    for num in range(len(array)-1,0,-1):\n",
    "        for i in range(num):\n",
    "            if array[i]>array[i+1]:\n",
    "                array[i],array[i+1]=array[i+1],array[i]\n",
    "    return array"
   ]
  },
  {
   "cell_type": "code",
   "execution_count": 18,
   "metadata": {},
   "outputs": [
    {
     "name": "stdout",
     "output_type": "stream",
     "text": [
      "[1, 2, 3, 4, 6, 8, 10, 12, 14, 21, 24, 42]\n"
     ]
    }
   ],
   "source": [
    "print(bubblesort([1,10,4,2,6,21,3,8,12,24,14,42]))"
   ]
  },
  {
   "cell_type": "markdown",
   "metadata": {},
   "source": [
    "### Quick Sort"
   ]
  },
  {
   "cell_type": "code",
   "execution_count": 19,
   "metadata": {
    "collapsed": true
   },
   "outputs": [],
   "source": [
    "def quicksort_1(array,low,high):\n",
    "    i,j=low,high    \n",
    "    \n",
    "    if i>=j:\n",
    "        return array\n",
    "    key_value=array[i]\n",
    "    key_index=i\n",
    "    \n",
    "    while i<j:\n",
    "        while i<j and array[j]>key_value:\n",
    "            j-=1\n",
    "        array[j],array[key_index]=array[key_index],array[j]\n",
    "        key_index=j\n",
    "        while i<j and array[i]<key_value:\n",
    "            i+=1\n",
    "        array[i],array[key_index]=array[key_index],array[i]\n",
    "        key_index=i\n",
    "    \n",
    "    quicksort(array,low,i-1)\n",
    "    quicksort(array,j+1,high)\n",
    "    \n",
    "    return array       "
   ]
  },
  {
   "cell_type": "code",
   "execution_count": 20,
   "metadata": {},
   "outputs": [
    {
     "name": "stdout",
     "output_type": "stream",
     "text": [
      "[1, 2, 3, 4, 6, 8, 10, 12, 14, 21, 24, 42]\n"
     ]
    }
   ],
   "source": [
    "print(quicksort_1([1,10,4,2,6,21,3,8,12,24,14,42],0,11))"
   ]
  },
  {
   "cell_type": "code",
   "execution_count": 27,
   "metadata": {
    "collapsed": true
   },
   "outputs": [],
   "source": [
    "# this version needs more space\n",
    "def quicksort_2(array):\n",
    "    if len(array)<=1:\n",
    "        return array\n",
    "    else:\n",
    "        key_value=array[0]\n",
    "        less=[i for i in array[1:] if i<key_value]\n",
    "        greater=[i for i in array[1:] if i>key_value]\n",
    "    return quicksort_2(less)+[key_value]+quicksort_2(greater)"
   ]
  },
  {
   "cell_type": "code",
   "execution_count": 28,
   "metadata": {},
   "outputs": [
    {
     "name": "stdout",
     "output_type": "stream",
     "text": [
      "[1, 2, 3, 4, 6, 8, 10, 12, 14, 21, 24, 42]\n"
     ]
    }
   ],
   "source": [
    "print(quicksort_2([1,10,4,2,6,21,3,8,12,24,14,42]))"
   ]
  },
  {
   "cell_type": "markdown",
   "metadata": {},
   "source": [
    "### Selection Sort"
   ]
  },
  {
   "cell_type": "code",
   "execution_count": 29,
   "metadata": {
    "collapsed": true
   },
   "outputs": [],
   "source": [
    "def selectionsort(array):\n",
    "    for i in range(len(array)):\n",
    "        min_idx=i\n",
    "        for j in range(i+1,len(array)):\n",
    "            if array[j]<array[min_idx]:\n",
    "                min_idx=j\n",
    "        array[i],array[min_idx]=array[min_idx],array[i]\n",
    "    return array        "
   ]
  },
  {
   "cell_type": "code",
   "execution_count": 30,
   "metadata": {},
   "outputs": [
    {
     "name": "stdout",
     "output_type": "stream",
     "text": [
      "[1, 2, 3, 4, 6, 8, 10, 12, 14, 21, 24, 42]\n"
     ]
    }
   ],
   "source": [
    "print(selectionsort([1,10,4,2,6,21,3,8,12,24,14,42]))"
   ]
  },
  {
   "cell_type": "markdown",
   "metadata": {},
   "source": [
    "### Insert Sort"
   ]
  },
  {
   "cell_type": "code",
   "execution_count": 52,
   "metadata": {
    "collapsed": true
   },
   "outputs": [],
   "source": [
    "def insertsort(array):\n",
    "    for i in range(len(array)):\n",
    "        for j in range(i):\n",
    "            if array[j]>array[i]:\n",
    "                array[j],array[i]=array[i],array[j]\n",
    "    return array"
   ]
  },
  {
   "cell_type": "code",
   "execution_count": 53,
   "metadata": {},
   "outputs": [
    {
     "name": "stdout",
     "output_type": "stream",
     "text": [
      "[1, 2, 3, 4, 6, 8, 10, 12, 14, 21, 24, 42]\n"
     ]
    }
   ],
   "source": [
    "print(insertsort([1,10,4,2,6,21,3,8,12,24,14,42]))"
   ]
  },
  {
   "cell_type": "markdown",
   "metadata": {},
   "source": [
    "### Shell Sort"
   ]
  },
  {
   "cell_type": "code",
   "execution_count": 64,
   "metadata": {},
   "outputs": [],
   "source": [
    "def shellsort(array):\n",
    "    step=len(array)//3\n",
    "#you can change the size of step\n",
    "    while step>0:\n",
    "# if you change 0 to 1, shellsort will not work\n",
    "        for i in range(0,len(array),step):\n",
    "            for j in range(0,i,step):\n",
    "                if array[j]>array[i]:\n",
    "                    array[j],array[i]=array[i],array[j]\n",
    "        step=step//3\n",
    "    return array"
   ]
  },
  {
   "cell_type": "code",
   "execution_count": 65,
   "metadata": {},
   "outputs": [
    {
     "name": "stdout",
     "output_type": "stream",
     "text": [
      "[1, 2, 3, 4, 6, 8, 10, 12, 14, 21, 24, 42]\n"
     ]
    }
   ],
   "source": [
    "print(shellsort([1,10,4,2,6,21,3,8,12,24,14,42]))"
   ]
  }
 ],
 "metadata": {
  "kernelspec": {
   "display_name": "Python 3",
   "language": "python",
   "name": "python3"
  },
  "language_info": {
   "codemirror_mode": {
    "name": "ipython",
    "version": 3
   },
   "file_extension": ".py",
   "mimetype": "text/x-python",
   "name": "python",
   "nbconvert_exporter": "python",
   "pygments_lexer": "ipython3",
   "version": "3.6.3"
  }
 },
 "nbformat": 4,
 "nbformat_minor": 2
}

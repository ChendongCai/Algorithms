{
 "cells": [
  {
   "cell_type": "code",
   "execution_count": 124,
   "metadata": {
    "collapsed": true
   },
   "outputs": [],
   "source": [
    "#Dynamic Programming\n",
    "def longestPalindrome(s):\n",
    "    ss='a'\n",
    "    for i in range(len(s)-1):\n",
    "        r=s[i]\n",
    "        slide=1\n",
    "        while i-slide>=0 and i+slide<=len(s)-1:\n",
    "            if s[i-slide]==s[i+slide]:\n",
    "                r=s[i-slide:i+1+slide]\n",
    "                slide+=1\n",
    "            else:\n",
    "                r=s[i-slide+1:i+slide]\n",
    "                break\n",
    "        if len(r)>len(ss):\n",
    "            ss=r\n",
    "            \n",
    "        if s[i]==s[i+1]:\n",
    "            slide=1\n",
    "            r=s[i:i+2]\n",
    "            while i-slide>=0 and i+1+slide<=len(s)-1:\n",
    "                if s[i-slide]==s[i+1+slide]:\n",
    "                    r=s[i-slide:i+2+slide]\n",
    "                    slide+=1\n",
    "                else:\n",
    "                    r=s[i-slide+1:i+1+slide]\n",
    "                    break\n",
    "            if len(r)>len(ss):\n",
    "                ss=r\n",
    "                \n",
    "            \n",
    "    return ss"
   ]
  },
  {
   "cell_type": "code",
   "execution_count": 125,
   "metadata": {},
   "outputs": [
    {
     "data": {
      "text/plain": [
       "'aca'"
      ]
     },
     "execution_count": 125,
     "metadata": {},
     "output_type": "execute_result"
    }
   ],
   "source": [
    "longestPalindrome('acabdcbaa')"
   ]
  }
 ],
 "metadata": {
  "kernelspec": {
   "display_name": "Python 3",
   "language": "python",
   "name": "python3"
  },
  "language_info": {
   "codemirror_mode": {
    "name": "ipython",
    "version": 3
   },
   "file_extension": ".py",
   "mimetype": "text/x-python",
   "name": "python",
   "nbconvert_exporter": "python",
   "pygments_lexer": "ipython3",
   "version": "3.6.3"
  }
 },
 "nbformat": 4,
 "nbformat_minor": 2
}

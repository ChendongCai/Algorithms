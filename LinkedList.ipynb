{
 "cells": [
  {
   "cell_type": "code",
   "execution_count": 88,
   "metadata": {},
   "outputs": [],
   "source": [
    "class Node():\n",
    "    def __init__(self,value):\n",
    "        self.value_=value\n",
    "        self.next_=None"
   ]
  },
  {
   "cell_type": "code",
   "execution_count": 104,
   "metadata": {
    "collapsed": true
   },
   "outputs": [],
   "source": [
    "a,b,c,d,e=Node(1),Node(2),Node(3),Node(4),Node(5)\n",
    "a.next_=b\n",
    "b.next_=c\n",
    "c.next_=d\n",
    "d.next_=e"
   ]
  },
  {
   "cell_type": "code",
   "execution_count": 105,
   "metadata": {},
   "outputs": [
    {
     "name": "stdout",
     "output_type": "stream",
     "text": [
      "1\n",
      "2\n",
      "3\n",
      "4\n",
      "5\n"
     ]
    }
   ],
   "source": [
    "print(a.value_)\n",
    "print(a.next_.value_)\n",
    "print(a.next_.next_.value_)\n",
    "print(a.next_.next_.next_.value_)\n",
    "print(a.next_.next_.next_.next_.value_)"
   ]
  },
  {
   "cell_type": "markdown",
   "metadata": {},
   "source": [
    "### Time complexity O(n), space complexity O(n)"
   ]
  },
  {
   "cell_type": "code",
   "execution_count": 91,
   "metadata": {
    "collapsed": true
   },
   "outputs": [],
   "source": [
    "def reverse_method1(head):\n",
    "    if head==None or head.next_==None:\n",
    "        return head\n",
    "    else:\n",
    "        arr=[]\n",
    "        while head:\n",
    "            arr.append(head.value_)\n",
    "            head=head.next_\n",
    "        new_head=Node(arr[-1])\n",
    "        node=new_head\n",
    "        for val in arr[::-1][1:]:\n",
    "            node.next_=Node(val)\n",
    "            node=node.next_\n",
    "        return new_head"
   ]
  },
  {
   "cell_type": "code",
   "execution_count": 92,
   "metadata": {},
   "outputs": [
    {
     "name": "stdout",
     "output_type": "stream",
     "text": [
      "5\n",
      "4\n",
      "3\n",
      "2\n",
      "1\n"
     ]
    }
   ],
   "source": [
    "ar=reverse_method1(a)\n",
    "print(ar.value_)\n",
    "print(ar.next_.value_)\n",
    "print(ar.next_.next_.value_)\n",
    "print(ar.next_.next_.next_.value_)\n",
    "print(ar.next_.next_.next_.next_.value_)"
   ]
  },
  {
   "cell_type": "markdown",
   "metadata": {},
   "source": [
    "### Time complexity O(n), space complexity O(1)"
   ]
  },
  {
   "cell_type": "code",
   "execution_count": 93,
   "metadata": {
    "collapsed": true
   },
   "outputs": [],
   "source": [
    "def reverse_method2(head):\n",
    "    if head==None or head.next_==None:\n",
    "        return head\n",
    "    else:\n",
    "        cur=head\n",
    "        temp=None\n",
    "        new_head=None\n",
    "#create a new head\n",
    "        while cur:\n",
    "            temp=cur.next_\n",
    "            cur.next_=new_head\n",
    "            new_head=cur           \n",
    "            cur=temp\n",
    "    return new_head"
   ]
  },
  {
   "cell_type": "code",
   "execution_count": 94,
   "metadata": {},
   "outputs": [
    {
     "name": "stdout",
     "output_type": "stream",
     "text": [
      "5\n",
      "4\n",
      "3\n",
      "2\n",
      "1\n"
     ]
    }
   ],
   "source": [
    "ar=reverse_method2(a)\n",
    "print(ar.value_)\n",
    "print(ar.next_.value_)\n",
    "print(ar.next_.next_.value_)\n",
    "print(ar.next_.next_.next_.value_)\n",
    "print(ar.next_.next_.next_.next_.value_)"
   ]
  },
  {
   "cell_type": "markdown",
   "metadata": {},
   "source": [
    "### Time complexity O(n), space complexity O(1)"
   ]
  },
  {
   "cell_type": "code",
   "execution_count": 100,
   "metadata": {
    "collapsed": true
   },
   "outputs": [],
   "source": [
    "def reverse_method3(head):\n",
    "    if head==None or head.next_==None:\n",
    "        return head\n",
    "    else:\n",
    "        n=head\n",
    "        cur=head.next_\n",
    "        temp=None\n",
    "        while cur:\n",
    "            temp=cur.next_\n",
    "            cur.next_=n\n",
    "            n=cur\n",
    "            cur=temp\n",
    "    head.next_=None\n",
    "    return n"
   ]
  },
  {
   "cell_type": "code",
   "execution_count": 101,
   "metadata": {},
   "outputs": [
    {
     "name": "stdout",
     "output_type": "stream",
     "text": [
      "5\n",
      "4\n",
      "3\n",
      "2\n",
      "1\n"
     ]
    }
   ],
   "source": [
    "ar=reverse_method3(a)\n",
    "print(ar.value_)\n",
    "print(ar.next_.value_)\n",
    "print(ar.next_.next_.value_)\n",
    "print(ar.next_.next_.next_.value_)\n",
    "print(ar.next_.next_.next_.next_.value_)"
   ]
  },
  {
   "cell_type": "markdown",
   "metadata": {},
   "source": [
    "### Time complexity O(n), space complexity O(1)"
   ]
  },
  {
   "cell_type": "code",
   "execution_count": 106,
   "metadata": {
    "collapsed": true
   },
   "outputs": [],
   "source": [
    "def reverse_method4(head):\n",
    "    if head==None or head.next_==None:\n",
    "        return head\n",
    "    else:\n",
    "        new_head=reverse_method4(head.next_)\n",
    "#recursion\n",
    "        head.next_.next_=head.next_\n",
    "        head.next_=None\n",
    "    return newhead"
   ]
  },
  {
   "cell_type": "code",
   "execution_count": 107,
   "metadata": {},
   "outputs": [
    {
     "name": "stdout",
     "output_type": "stream",
     "text": [
      "5\n",
      "4\n",
      "3\n",
      "2\n",
      "1\n"
     ]
    }
   ],
   "source": [
    "ar=reverse_method3(a)\n",
    "print(ar.value_)\n",
    "print(ar.next_.value_)\n",
    "print(ar.next_.next_.value_)\n",
    "print(ar.next_.next_.next_.value_)\n",
    "print(ar.next_.next_.next_.next_.value_)"
   ]
  }
 ],
 "metadata": {
  "kernelspec": {
   "display_name": "Python 3",
   "language": "python",
   "name": "python3"
  },
  "language_info": {
   "codemirror_mode": {
    "name": "ipython",
    "version": 3
   },
   "file_extension": ".py",
   "mimetype": "text/x-python",
   "name": "python",
   "nbconvert_exporter": "python",
   "pygments_lexer": "ipython3",
   "version": "3.6.3"
  }
 },
 "nbformat": 4,
 "nbformat_minor": 2
}
